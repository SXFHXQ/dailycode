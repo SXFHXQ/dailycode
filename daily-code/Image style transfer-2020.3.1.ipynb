{
 "cells": [
  {
   "cell_type": "code",
   "execution_count": 5,
   "metadata": {},
   "outputs": [],
   "source": [
    "import tensorflow as tf\n",
    "import numpy as np\n",
    "import scipy.io\n",
    "import scipy.misc\n",
    "import os\n",
    "import time"
   ]
  },
  {
   "cell_type": "code",
   "execution_count": 14,
   "metadata": {},
   "outputs": [],
   "source": [
    "def the_current_time():\n",
    "    print(time.strftime('%Y-%m-%d %H:%M:%S',time.localtime(int(time.time()))))\n",
    "#打印当时的时间"
   ]
  },
  {
   "cell_type": "code",
   "execution_count": 6,
   "metadata": {},
   "outputs": [],
   "source": [
    "CONTENT_IMG='content.jpg'\n",
    "STYLE_IMG='style.jpg'\n",
    "OUTPUT_DIR='neural_style_transfer_tensorflow/'\n",
    "\n",
    "if not OUTPUT_DIR:\n",
    "    os.mkdir(OUTPUT_DIR)\n",
    "    \n",
    "IMAGE_H=800\n",
    "IMAGE_W=600\n",
    "COLOR_C=3\n",
    "\n",
    "NOISE_RATIO=0.7\n",
    "BETA=5\n",
    "ALPHA=100\n",
    "\n",
    "VGG_MODEL='imagenet-vgg-verydeep-19.mat'\n",
    "MEAN_VALUES=np.array([123.68, 116.779, 103.939]).reshape((1,1,1,3))\n",
    "#起到归一化的作用，原来是0-255的值\n"
   ]
  },
  {
   "cell_type": "code",
   "execution_count": 13,
   "metadata": {},
   "outputs": [],
   "source": [
    "def load_image(path):\n",
    "    image=scipy.misc.imread(path)   #从路径中读出图片\n",
    "    image=scipy.misc.imresize(image,(IMAGE_H,IMAGE_W))  #更改图片的高和宽\n",
    "    image=np.reshape(image,((1,)+image.shape))   #把二维的数据变为三维\n",
    "    image=image-MEAN_VALUES\n",
    "    return image"
   ]
  },
  {
   "cell_type": "code",
   "execution_count": 9,
   "metadata": {},
   "outputs": [],
   "source": [
    "def load_vgg_model(path):\n",
    "    vgg=scipy.io.loadmat(path)\n",
    "    vgg_layers=vgg['layers']\n",
    "    \n",
    "    def _weights(layer,expected_layer_name):\n",
    "        W=vgg_layers[0][layer][0][0][2][0][0]\n",
    "        b=vgg_layers[0][layer][0][0][2][0][1]\n",
    "        layer_name=vgg_layers[0][layer][0][0][0][0]\n",
    "        assert layer_name == expected_layer_name    #判断语句\n",
    "        return W,b \n",
    "    \n",
    "    def _conv2d_relu(prev_layer,layer,layer_name):\n",
    "        W,b=_weights(layer,layer_name)   #提取特定层的参数\n",
    "        W=tf.constant(W)\n",
    "        b=tf.constant(np.reshape(b,(b.size)))\n",
    "        return tf.nn.relu(tf.nn.conv2d(prev_layer,filter=W,strides=[1,1,1,1], \n",
    "                                       padding='SAME')+b)\n",
    "        #strides在定义中是一个四个元素的张量，其前后必须为1，中间两个数分别代表了水平滑动和垂直滑动步长值。\n",
    "    def _avgpool(prev_layer):\n",
    "        return tf.nn.avg_pool(prev_layer,ksize=[1,2,2,1],strides=[1,2,2,1],padding='SAME')\n",
    "    \n",
    "    graph={}\n",
    "    graph['input']=tf.Variable(np.zeros((1,IMAGE_H,IMAGE_W,COLOR_C)),dtype='float32')\n",
    "    graph['conv1_1']=_conv2d_relu(graph['input'],0,'conv1_1')\n",
    "    graph['conv1_2']=_conv2d_r+elu(graph['conv1_1'],2,'conv1_2')\n",
    "    graph['avgpool1'] = _avgpool(graph['conv1_2'])\n",
    "    graph['conv2_1']  = _conv2d_relu(graph['avgpool1'], 5, 'conv2_1')\n",
    "    graph['conv2_2']  = _conv2d_relu(graph['conv2_1'], 7, 'conv2_2')\n",
    "    graph['avgpool2'] = _avgpool(graph['conv2_2'])\n",
    "    graph['conv3_1']  = _conv2d_relu(graph['avgpool2'], 10, 'conv3_1')\n",
    "    graph['conv3_2']  = _conv2d_relu(graph['conv3_1'], 12, 'conv3_2')\n",
    "    graph['conv3_3']  = _conv2d_relu(graph['conv3_2'], 14, 'conv3_3')\n",
    "    graph['conv3_4']  = _conv2d_relu(graph['conv3_3'], 16, 'conv3_4')\n",
    "    graph['avgpool3'] = _avgpool(graph['conv3_4'])\n",
    "    graph['conv4_1']  = _conv2d_relu(graph['avgpool3'], 19, 'conv4_1')\n",
    "    graph['conv4_2']  = _conv2d_relu(graph['conv4_1'], 21, 'conv4_2')\n",
    "    graph['conv4_3']  = _conv2d_relu(graph['conv4_2'], 23, 'conv4_3')\n",
    "    graph['conv4_4']  = _conv2d_relu(graph['conv4_3'], 25, 'conv4_4')\n",
    "    graph['avgpool4'] = _avgpool(graph['conv4_4'])\n",
    "    graph['conv5_1']  = _conv2d_relu(graph['avgpool4'], 28, 'conv5_1')\n",
    "    graph['conv5_2']  = _conv2d_relu(graph['conv5_1'], 30, 'conv5_2')\n",
    "    graph['conv5_3']  = _conv2d_relu(graph['conv5_2'], 32, 'conv5_3')\n",
    "    graph['conv5_4']  = _conv2d_relu(graph['conv5_3'], 34, 'conv5_4')\n",
    "    graph['avgpool5'] = _avgpool(graph['conv5_4'])\n",
    "    return graph"
   ]
  },
  {
   "cell_type": "code",
   "execution_count": 8,
   "metadata": {},
   "outputs": [],
   "source": [
    "def generate_noise_image(content_image,noise_ratio=NOISE_RATIO):\n",
    "    noise_image=np.random.uniform(-20,20,(1,IMAGE_H, IMAGE_W, COLOR_C)).astype('float32')\n",
    "    #[)中均匀取值\n",
    "    input_image=noise_image*noise_ratio+content_image*(1-noise_ratio)\n",
    "    return input_image"
   ]
  },
  {
   "cell_type": "code",
   "execution_count": 7,
   "metadata": {},
   "outputs": [],
   "source": [
    "def save_image(path,image):\n",
    "    image=image+MEAN_VALUES\n",
    "    image=image[0]\n",
    "    image=np.clip(image,0,255).astype('uint8')\n",
    "    scipy.misc.imsave(path,image)"
   ]
  },
  {
   "cell_type": "code",
   "execution_count": 10,
   "metadata": {},
   "outputs": [],
   "source": [
    "def content_loss_func(sess,model):\n",
    "    def _content_loss(p,x):  #p是内容，x是我们生成的图片\n",
    "        N=p.shape[3]\n",
    "        M=p.shape[1]*p.shape[2]\n",
    "        return (1/(4*M*N))*tf.reduce_sum(tf.pow(x-p,2))\n",
    "    return _content_loss(sess.run(model['conv4_2']),model['conv4_2'])\n",
    "#第一个固定，第二个是变的"
   ]
  },
  {
   "cell_type": "code",
   "execution_count": 11,
   "metadata": {},
   "outputs": [],
   "source": [
    "STYLE_LAYERS=[('conv1_1',0.5),('conv2_1',1.0),('conv3_1',1.5),('conv4_1',3.0),('conv5_1',4.0)]\n",
    "\n",
    "def style_loss_func(sess,model):\n",
    "    def _gram_matrix(F,N,M):\n",
    "        Ft=tf.reshape(F,(F,M))\n",
    "        return tf.matmul(tf.transpose(Ft),Ft)\n",
    "    def _style_loss(a,x):\n",
    "        N=a.shape[3]\n",
    "        M=a.shape[1]*a.shape[2]\n",
    "        A=_gram_matrix(a,N,M)\n",
    "        G=_gram_matrix(x,N,M)\n",
    "        return (1/(4*M*N))*tf.reduce_sum(tf.pow(G-A,2))\n",
    "    return sum([_style_loss(sess.run(model[layer_name]),model[layer_name])*w \n",
    "                for layer_name,w in STYLE_LAYERS])"
   ]
  },
  {
   "cell_type": "code",
   "execution_count": 15,
   "metadata": {},
   "outputs": [
    {
     "name": "stdout",
     "output_type": "stream",
     "text": [
      "2020-03-01 10:56:08\n"
     ]
    }
   ],
   "source": [
    "the_current_time()"
   ]
  },
  {
   "cell_type": "code",
   "execution_count": null,
   "metadata": {},
   "outputs": [],
   "source": [
    "with tf.Session() as sess:\n",
    "    content_image=load_image(CONTENT_IMAGE)\n",
    "    style_image=load_image(STYLE_IMG)\n",
    "    model=load_vgg_model(VGG_MODEL)\n",
    "    \n",
    "    input_image=generate_noise_image(content_image)\n",
    "    sess.run(tf.global_variables_initializer)\n",
    "    sess.run(model['input'].assign(content_image))\n",
    "    \n",
    "    sess.run(model['input'].assign(style_image))\n",
    "    style_loss=style_loss_func(sess, model)\n",
    "    \n",
    "    total_loss=BETA*content_loss+ALPHA*style_loss\n",
    "    optimizer=tf.train.AdamOptimizer(2.0)\n",
    "    train=optimizer.minimize(total_loss)\n",
    "    \n",
    "    sess.run(tf.global_variables_initializer())\n",
    "    sess.run(model['input'].assign(input_image))\n",
    "    \n",
    "    ITERATIONS=2000\n",
    "    for i in range(ITERATIONS):\n",
    "        sess.run(train)\n",
    "        if i%100==0:\n",
    "            output_image=sess.run(model['input'])\n",
    "            the_current_time\n",
    "            print('ITERATIONS %d' %i)\n",
    "            print('Cost: ', sess.run(total_loss))\n",
    "            \n",
    "            save_image(os.path.join(OUTPUT_DIR, 'output_%d.jpg' % i), output_image)"
   ]
  },
  {
   "cell_type": "code",
   "execution_count": 4,
   "metadata": {},
   "outputs": [
    {
     "data": {
      "text/plain": [
       "(1, 2, 3)"
      ]
     },
     "execution_count": 4,
     "metadata": {},
     "output_type": "execute_result"
    }
   ],
   "source": [
    "(1,)+(2,3)"
   ]
  }
 ],
 "metadata": {
  "kernelspec": {
   "display_name": "Python 3",
   "language": "python",
   "name": "python3"
  },
  "language_info": {
   "codemirror_mode": {
    "name": "ipython",
    "version": 3
   },
   "file_extension": ".py",
   "mimetype": "text/x-python",
   "name": "python",
   "nbconvert_exporter": "python",
   "pygments_lexer": "ipython3",
   "version": "3.6.4"
  }
 },
 "nbformat": 4,
 "nbformat_minor": 2
}
